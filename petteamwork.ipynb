{
 "cells": [
  {
   "cell_type": "code",
   "execution_count": 0,
   "metadata": {
    "colab": {},
    "colab_type": "code",
    "id": "faeG7-FTrEjH"
   },
   "outputs": [],
   "source": []
  },
  {
   "cell_type": "markdown",
   "metadata": {
    "colab_type": "text",
    "id": "StuoeiYtrLri"
   },
   "source": [
    "When creating our Pet Store Entity Relationship diagram we had a number of different tables and factors to consider. The big 2 ideas we used to organize the wide range of tables were 1)things that could be purchased from the shop and  2)everything else that has to do with the business side of the store. Tables that would fall under 1) would be Pets, Fish, Pet Enclosures, Aquariums, and food. Examples for the information found under idea 2) would be Customers(purchases), Transactions and Expense Reports. \n",
    "\n",
    "Buyable examples were all kept in a similar format to another, for example, the Primary Key, were all IDs: that they were the ID of the item. Rest of them were just the other characteristics of it such as factors that directly impact the table. Examples are the temperature of aquarium or how to take care of the fish/pet were included. Since the sales and information of things like food are so vital to the operation of the store they are found in a number of tables, thus we used foreign keys to refer to them. \n",
    "\n",
    "We made sure the one-to-one, one-to-many, many-to-many connections were all right as well. It made sense for all of the food connections to be many-to-many since there are a plethora of animals involved, all with very specific eating habits, and there are more than one serving of food involved usually. Speaking of food, it was a good idea to keep it in the relative middle as it was just applicable and connected to many other tables. To add on, FoodID served as a foreign key for many tables as well, so to have it in the middle makes sense: it will be referred alot and be easily found. \n",
    "\n",
    "The other Customer transactions and expense reports were also kept near each other as they also had things to do with one another. Expense Report however was kept separate, as that did not have to do with much other tables but the food table. \n",
    "\n",
    "The relationships for the business side were quite similar to that of the \"items\" side of the business. We had to use foreign keys for a number of different things as there was overlaps here as well given that in order to make a purchase you would need to be getting things from the other sides of the tables. We included specific information on customers in order to gain a stronger bond with them, and we decided to make food transactions and pet transactions seperate in order to avoid confusion.\n"
   ]
  },
  {
   "cell_type": "markdown",
   "metadata": {
    "colab_type": "text",
    "id": "SwWq9znoJ_y3"
   },
   "source": [
    "Photo below:"
   ]
  },
  {
   "cell_type": "markdown",
   "metadata": {
    "colab_type": "text",
    "id": "aMkqBDz2J8bK"
   },
   "source": [
    "https://github.com/JSchrum1/IST210/blob/master/Pet%20Store.png"
   ]
  }
 ],
 "metadata": {
  "colab": {
   "name": "Untitled0.ipynb",
   "provenance": []
  },
  "kernelspec": {
   "display_name": "Python 3",
   "language": "python",
   "name": "python3"
  },
  "language_info": {
   "codemirror_mode": {
    "name": "ipython",
    "version": 3
   },
   "file_extension": ".py",
   "mimetype": "text/x-python",
   "name": "python",
   "nbconvert_exporter": "python",
   "pygments_lexer": "ipython3",
   "version": "3.7.1"
  }
 },
 "nbformat": 4,
 "nbformat_minor": 1
}
